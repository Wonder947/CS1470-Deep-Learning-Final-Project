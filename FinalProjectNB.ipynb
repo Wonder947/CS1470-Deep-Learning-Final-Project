{
 "cells": [
  {
   "cell_type": "markdown",
   "id": "340ca66f",
   "metadata": {},
   "source": [
    "# Modern Hopfield Networks on the CIFAR10 dataset\n",
    "**2025 Spring CSCI1470 Deep Learning Final Project**\n",
    "\n",
    "**Authors: [Haosheng Wang](https://github.com/Wonder947), Edrick Guerrero, [Alfonso Gordon Cabello de los Cobos](https://github.com/AlfonsoR-GordonCC)**\n",
    "\n",
    "In this project we have created a Hopfiel Network that memorizes patterns on a grayscale version of the CIFAR10 dataset for it to be able to reconstruct the images from altered samples using TensorFlow.\n",
    "\n",
    "We followed one of the pytorch implementation https://github.com/ml-jku/hopfield-layers, proposed by the paper *Hopefield Network is All You Need*.\n",
    "\n",
    "The goals for this project are:\n",
    "1. BASE GOAL: high accuracy with small part of the dataset\n",
    "2. TARGET GOAL: analyze how accuracy is affected by the quality (i.e. correlation between\n",
    "images) and quantity (number of images to store) of the stored images/features.\n",
    "3. STRETCH GOAL: analyze how accuracy is affected by the quality (e.g. amount of noise,\n",
    "completeness of features) of the images/features used for retrieval."
   ]
  },
  {
   "cell_type": "markdown",
   "id": "67b28d81",
   "metadata": {},
   "source": [
    "# Division of Labor\n",
    "- Haosheng Wang:\n",
    "- Edrick Guerrero:\n",
    "- Alfonso Gordon Cabello de los Cobos:\n",
    "\n",
    "For BASE GOAL:\n",
    "1. ✅ Test existing pytorch implementation, including\n",
    "    - Testing the performance of existing implementation of modern hopfield network by the paper author as proof of concept\n",
    "    - This shall walk through the whole process(1. load several images to be stored 2. add simple mask/noise to those images 3. init modern hopfield network 4. store the images 5. get retreived images using masked images 6. visualize the original image, the masked image, and the retrieved image), and produce a demo for later steps to follow\n",
    "    - NOTE: this is trivially done, as we later found existing notebook already done the job https://github.com/ml-jku/hopfield-layers/blob/gh-pages/examples/simpsons/continuous_hopfield_pytorch.ipynb\n",
    "\n",
    "2. ✅ Load dataset and image processing, including\n",
    "    - Writing methods for loading dataset and taking part of the image dataset for memorizing\n",
    "    - Writing methods for converting Images to gray-scale\n",
    "    - Writing methods for converting between Image (for visualization e.g. PIL Image) and Numpy Array (or Tensorflow tensor) back and forth\n",
    "    - Writing methods for corrupting the image (e.g. adding mask; adding noise)\n",
    "3. Modern hopfield netork core implementation, including\n",
    "    - Implement the class of modern hopfield network, using the same or similar architecture proposed by the paper\n",
    "    - Including at least init, store, retrieve\n",
    "4. Evaluation, including\n",
    "    - Define how to measure the \"accuracy\" between original Image and retrieved Image\n",
    "    - Use the above mentioned methods to write evaluation functions for the whole process, given input images to be stored, choice of masking quality(or images for retrieval), output hopfield network performance\n",
    "    - Run the function to compare the performance of the pytorch one and our tensorflow one\n",
    "\n",
    "For TARGET GOAL:\n",
    "1. Analyze how accuracy is affected by the quality and quantity of images to be stored, including:\n",
    "    - Define how to measure the quality of images to be memorized/stored, e.g. define how to measure correlation between images\n",
    "    - Write function for the measurement, given input a batch of images to be measured, output the quality\n",
    "    - Visualize the relationship between the quality of the stored images and model accuracy (under same image quantity)\n",
    "    - Visualize the relationship between the quantity of the stored images and model accuracy (under the same image quality)\n",
    "\n",
    "For STRETCH GOAL:\n",
    "1. Analyze how accuracy is affected by the quality of the masked images for retrieval, including:\n",
    "    - Define how to measure the quality of masked images, e.g. percentage of pixels masked; norm of noises added\n",
    "    - Write function for the measurement, given input a pair of original and masked image, output quality of the masked image e.g. quality a number from 0-1 where quality 1 means the masked image is same as original image, 0 means \"completely different\"\n",
    "    - Visualize the relationship between the quality of the masked/cropped images for retrieval and final accuracy (under same store Image quality and quantity)\n"
   ]
  },
  {
   "cell_type": "markdown",
   "id": "60eb1701",
   "metadata": {},
   "source": [
    "# Image preprocessing"
   ]
  },
  {
   "cell_type": "markdown",
   "id": "c493f65e",
   "metadata": {},
   "source": [
    "As with any deep learning library, we have to preprocess the data we want to preprocess"
   ]
  },
  {
   "cell_type": "markdown",
   "id": "5aeff931",
   "metadata": {},
   "source": [
    "First we import the needed libraries for the project to work."
   ]
  },
  {
   "cell_type": "code",
   "execution_count": 26,
   "id": "16be3885",
   "metadata": {},
   "outputs": [],
   "source": [
    "import numpy as np\n",
    "import tensorflow as tf\n",
    "import matplotlib as mat\n",
    "import matplotlib.pyplot as plt"
   ]
  },
  {
   "cell_type": "markdown",
   "id": "14745d9b",
   "metadata": {},
   "source": [
    "Then we import the CIFAR10 dataset and isolate samples according to the goals of the project. Those samples must be in grayscale ffor the Network to memorize patterns correctly."
   ]
  },
  {
   "cell_type": "code",
   "execution_count": 27,
   "id": "1d0116ee",
   "metadata": {},
   "outputs": [
    {
     "name": "stdout",
     "output_type": "stream",
     "text": [
      "Taking a 10% of the CIFAR10 dataset. Total of 6000 images used.\n",
      "\n",
      "Images selected.\n",
      " Checking if they are in grayscale...\n",
      "Cool, we can continue. Here you have one of the images\n"
     ]
    },
    {
     "data": {
      "image/png": "[encoded data removed]",
      "text/plain": [
       "<Figure size 640x480 with 1 Axes>"
      ]
     },
     "metadata": {},
     "output_type": "display_data"
    }
   ],
   "source": [
    "(x_train, y_train), (x_test, y_test) = tf.keras.datasets.cifar10.load_data()\n",
    "assert x_train.shape == (50000, 32, 32, 3)\n",
    "assert x_test.shape == (10000, 32, 32, 3)\n",
    "assert y_train.shape == (50000, 1)\n",
    "assert y_test.shape == (10000, 1)\n",
    "\n",
    "complete_imgs = np.concatenate((x_train, x_test), axis=0) # Create a Numpy Array with all the images\n",
    "\n",
    "percentage = input(\"What percentage of the CIFAR10 dataset (60000 images) do you want to use?\")\n",
    "if percentage == '': #If the user has not decided a percentage, 10% is default\n",
    "    percentage = 10\n",
    "else:\n",
    "    percentage = int(round(float(percentage)))\n",
    "\n",
    "number_images_used = int(round(60000 * (percentage/100))) # Number of images that will be used\n",
    "\n",
    "print(f'Taking a {percentage}% of the CIFAR10 dataset. Total of {number_images_used} images used.\\n')\n",
    "\n",
    "images_used = np.zeros(shape=(number_images_used, complete_imgs.shape[1], complete_imgs.shape[2], 1)) # Initialize a zero array with the same size of the complete\n",
    "\n",
    "used_indices = set()\n",
    "for i in range(number_images_used): # Lets use random images of the dataset\n",
    "    n = np.random.randint(0, complete_imgs.shape[0])\n",
    "    if n not in used_indices:\n",
    "        images_used[i] = tf.image.rgb_to_grayscale(complete_imgs[n]) # Changes the images to grayscale\n",
    "        used_indices.add(n)\n",
    "\n",
    "\n",
    "print(\"Images selected.\\n Checking if they are in grayscale...\")\n",
    "plt.imshow(images_used[0], cmap='gray')\n",
    "print(\"Cool, we can continue. Here you have one of the images\")"
   ]
  },
  {
   "cell_type": "markdown",
   "id": "c4793dc2",
   "metadata": {},
   "source": [
    "After getting the images and turned them into grayscale, is time to create the testing set by adding noise to the oringinal images."
   ]
  },
  {
   "cell_type": "code",
   "execution_count": 28,
   "id": "9b5ac340",
   "metadata": {},
   "outputs": [
    {
     "name": "stdout",
     "output_type": "stream",
     "text": [
      "Checking if noise is added correctly...\n",
      "Noisy image shape: (32, 32, 3), dtype: <dtype: 'float32'>\n"
     ]
    },
    {
     "data": {
      "image/png": "[encoded data removed]",
      "text/plain": [
       "<Figure size 1200x400 with 3 Axes>"
      ]
     },
     "metadata": {},
     "output_type": "display_data"
    },
    {
     "name": "stdout",
     "output_type": "stream",
     "text": [
      "Cool, we can continue. Here you have one of the images\n"
     ]
    }
   ],
   "source": [
    "noisy_imgs = np.zeros(shape=(number_images_used, complete_imgs.shape[1], complete_imgs.shape[2], 3))\n",
    "actual_index = 0\n",
    "for i in used_indices: \n",
    "    original_img = complete_imgs[i] # We get the original image for applying noise\n",
    "\n",
    "    \n",
    "    original_img_float = tf.cast(original_img, tf.float32) # Convert the image to float32 explicitly\n",
    "\n",
    "    # Generate stronger noise\n",
    "    stddev = 0.0001  # Higher value for more visible noise\n",
    "    noise = 0.1 * tf.random.normal(shape=original_img.shape, mean=0.0, stddev=stddev, dtype=tf.float32)\n",
    "\n",
    "    \n",
    "    noisy_img = original_img_float + noise # Add noise - using simple addition instead of tf.add to avoid type issues\n",
    "\n",
    "    \n",
    "    noisy_imgs[actual_index] =  tf.math.floormod(noisy_img, 1.0) # Apply module to keep in range [0,1] and save it on the array as grayscale\n",
    "    \n",
    "\n",
    "    if actual_index == 0:\n",
    "        print(\"Checking if noise is added correctly...\")\n",
    "\n",
    "        print(f\"Noisy image shape: {noisy_img.shape}, dtype: {noisy_img.dtype}\")\n",
    "\n",
    "        \n",
    "        plt.figure(figsize=(12, 4)) # Visualize with an explicit check to make sure images are compatible with imshow\n",
    "\n",
    "        plt.subplot(1, 3, 1)\n",
    "        plt.title(\"Original\")\n",
    "        plt.imshow(np.array(original_img)) # Convert to numpy if needed\n",
    "        plt.axis('off')\n",
    "\n",
    "        plt.subplot(1, 3, 2)\n",
    "        plt.title(\"Noise\")\n",
    "        \n",
    "        visual_noise = (noise - tf.reduce_min(noise)) / (tf.reduce_max(noise) - tf.reduce_min(noise)) # Normalize noise for visualization\n",
    "        plt.imshow(np.array(visual_noise))\n",
    "        plt.axis('off')\n",
    "\n",
    "        plt.subplot(1, 3, 3)\n",
    "        plt.title(\"Noisy Image\")\n",
    "        plt.imshow(np.array(noisy_imgs[actual_index]))\n",
    "        plt.axis('off')\n",
    "\n",
    "        plt.tight_layout()\n",
    "        plt.show()\n",
    "\n",
    "        print(\"Cool, we can continue. Here you have one of the images\")\n",
    "    \n",
    "    noisy_imgs[actual_index] =  tf.image.rgb_to_grayscale(noisy_imgs[actual_index]) # Turn the noisy image to grayscale\n",
    "\n",
    "    actual_index += 1\n"
   ]
  },
  {
   "cell_type": "markdown",
   "id": "46a90867",
   "metadata": {},
   "source": [
    "Another option is to apply a mask to the images. This way, only half of the imageis recognizable."
   ]
  },
  {
   "cell_type": "code",
   "execution_count": 29,
   "id": "612c0419",
   "metadata": {},
   "outputs": [
    {
     "name": "stdout",
     "output_type": "stream",
     "text": [
      "Checking if making is done correctly...\n",
      "Cool, images are sliced, we can continue. Here you have one of the images\n"
     ]
    },
    {
     "data": {
      "image/png": "[encoded data removed]",
      "text/plain": [
       "<Figure size 640x480 with 1 Axes>"
      ]
     },
     "metadata": {},
     "output_type": "display_data"
    }
   ],
   "source": [
    "images_masked_np = images_used\n",
    "count = 0\n",
    "for img in images_used:\n",
    "    img[16:, :] = (255//2)\n",
    "    images_masked_np[count] = img\n",
    "    count += 1\n",
    "\n",
    "print(\"Checking if making is done correctly...\")\n",
    "plt.imshow(images_masked_np[0], cmap='grey')\n",
    "print(\"Cool, images are sliced, we can continue. Here you have one of the images\")\n"
   ]
  },
  {
   "cell_type": "markdown",
   "id": "22091309",
   "metadata": {},
   "source": [
    "Now we define simple functions for changing the images to NumPy arrays and viceversa, an easy way to call the operations."
   ]
  },
  {
   "cell_type": "code",
   "execution_count": 30,
   "id": "74cb57ba",
   "metadata": {},
   "outputs": [
    {
     "name": "stdout",
     "output_type": "stream",
     "text": [
      "Checking if functions work as they should...\n",
      "Cool, the functions work, we can continue. Here you have one of the images\n"
     ]
    },
    {
     "data": {
      "image/png": "[encoded data removed]",
      "text/plain": [
       "<Figure size 640x480 with 1 Axes>"
      ]
     },
     "metadata": {},
     "output_type": "display_data"
    }
   ],
   "source": [
    "def img_to_arr(img, new_shape = (-1, 1)):\n",
    "    return tf.reshape(img, new_shape)\n",
    "\n",
    "def arr_to_img(arr):\n",
    "    if tf.is_tensor(arr):\n",
    "        return tf.reshape(arr, shape = [32, 32, 1])\n",
    "    else:\n",
    "        tens_arr = tf.convert_to_tensor(arr)\n",
    "        return tf.reshape(tens_arr, shape = [32, 32, 1])\n",
    "    \n",
    "print(\"Checking if functions work as they should...\")\n",
    "plt.imshow(arr_to_img(img_to_arr(images_masked_np[0])), cmap='grey') \n",
    "print(\"Cool, the functions work, we can continue. Here you have one of the images\")"
   ]
  },
  {
   "cell_type": "markdown",
   "id": "bf4dbee7",
   "metadata": {},
   "source": [
    "# Model Creation"
   ]
  },
  {
   "cell_type": "markdown",
   "id": "e776d8fc",
   "metadata": {},
   "source": [
    "This is where the fun starts! We are going to create the class for the Hopfield Network implementation"
   ]
  },
  {
   "cell_type": "code",
   "execution_count": null,
   "id": "aca62f98",
   "metadata": {},
   "outputs": [],
   "source": [
    "class ContinuousHopfield:\n",
    "    def __init__(self, pat_size, beta=1, do_normalization=True):\n",
    "        self.size = pat_size # size of individual pattern\n",
    "        self.beta = beta\n",
    "        self.max_norm = np.sqrt(self.size)\n",
    "        if do_normalization:\n",
    "            self.softmax = self.softmax_normalized\n",
    "            self.energy = self.energy_normalized\n",
    "        else:\n",
    "            self.softmax = self.softmax_unnormalized\n",
    "            self.energy = self.energy_unnormalized\n",
    "        \n",
    "        return\n",
    "\n",
    "    def learn(self, patterns):\n",
    "        \"\"\"expects patterns as numpy arrays and stores them col-wise in pattern matrix \n",
    "        \"\"\"\n",
    "        self.num_pat = len(patterns)\n",
    "        assert(all(type(x) is np.ndarray for x in patterns)), 'not all input patterns are numpy arrays'\n",
    "        assert(all(len(x.shape) == 2 for x in patterns)), 'not all input patterns have dimension 2'\n",
    "        assert(all(1 == x.shape[1] for x in patterns)), 'not all input patterns have shape (-1,1) '\n",
    "        self.patterns = np.array(patterns).squeeze(axis=-1).T # save patterns col-wise\n",
    "        # without squeeze axis would result in problem with one pattern\n",
    "        # return -1*np.sum(np.exp([(self.patterns[:,ii].T @pattern)/self.max_norm for ii in range(self.patterns.shape[1])]))\n",
    "        self.M = max(np.linalg.norm(vec) for vec in patterns)# maximal norm of actually stored patterns\n",
    "        return\n",
    "\n",
    "    def retrieve(self, partial_pattern, max_iter=np.inf, thresh=0.5):\n",
    "        # partial patterns have to be provided with None/0 at empty spots\n",
    "        if partial_pattern.size != self.size:\n",
    "            raise ValueError(\"Input pattern %r does not match state size: %d vs %d\" \n",
    "                %(partial_pattern, len(partial_pattern), self.size))\n",
    "        \n",
    "        if None in partial_pattern:\n",
    "            raise NotImplementedError(\"How should we deal with empty spots? Fill randomly or set to 0?\")\n",
    "            # fill with 0 seems to make most sense\n",
    "\n",
    "        assert type(partial_pattern) == np.ndarray, 'test pattern was no numpy array'\n",
    "        assert len(partial_pattern.shape) ==2 and 1 == partial_pattern.shape[1], 'test pattern with shape %r is not a col-vector' %(partial_pattern.shape,)\n",
    "\n",
    "        pat_old = partial_pattern.copy()\n",
    "        iters = 0\n",
    "\n",
    "        while(iters < max_iter):\n",
    "            pat_new = self.patterns @ self.softmax(self.beta*self.patterns.T @ pat_old)\n",
    "\n",
    "            if np.count_nonzero(pat_old != pat_new)<= thresh: # converged\n",
    "                break\n",
    "            else:\n",
    "                pat_old = pat_new\n",
    "            iters += 1\n",
    "            \n",
    "        return pat_new\n",
    "\n",
    "    @staticmethod\n",
    "    def softmax_unnormalized(z):\n",
    "        numerators = np.exp(z) # top\n",
    "        denominator = np.sum(numerators) # bottom\n",
    "        return numerators/denominator\n",
    "\n",
    "    def softmax_normalized(self,z):\n",
    "        numerators = np.exp(z/self.max_norm) # top\n",
    "        denominator = np.sum(numerators) # bottom\n",
    "        return numerators/denominator\n",
    "\n",
    "    @staticmethod\n",
    "    def _lse(z, beta):\n",
    "        return 1/beta * np.log(np.sum(np.exp(beta*z)))\n",
    "\n",
    "    def energy_unnormalized(self, pattern):\n",
    "        return -1*self._lse(self.patterns.T @pattern, 1) + 0.5 * pattern.T @ pattern\\\n",
    "            + 1/self.beta*np.log(self.num_pat)\\\n",
    "            + 0.5*self.M**2\n",
    "    \n",
    "    def energy_normalized(self, pattern):\n",
    "        # normalize dot product of patterns by 1/sqrt(pattern_size)\n",
    "        return -1*self._lse((self.patterns.T @pattern )/self.max_norm, 1) + 0.5 * pattern.T @ pattern\\\n",
    "            + 1/self.beta*np.log(self.num_pat)\\\n",
    "            + 0.5*self.M**2\n",
    "\n",
    "    def energy_landscape(self):\n",
    "        for pat in product([1,-1], repeat=self.size):\n",
    "            pat = np.array(pat)\n",
    "            print(\"energy(%r)=%.3f\"%(pat, self.energy(pat)))"
   ]
  }
 ],
 "metadata": {
  "kernelspec": {
   "display_name": "csci1470",
   "language": "python",
   "name": "python3"
  },
  "language_info": {
   "codemirror_mode": {
    "name": "ipython",
    "version": 3
   },
   "file_extension": ".py",
   "mimetype": "text/x-python",
   "name": "python",
   "nbconvert_exporter": "python",
   "pygments_lexer": "ipython3",
   "version": "3.11.9"
  }
 },
 "nbformat": 4,
 "nbformat_minor": 5
}
