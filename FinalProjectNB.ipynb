{
 "cells": [
  {
   "cell_type": "markdown",
   "id": "340ca66f",
   "metadata": {},
   "source": [
    "# Modern Hopfield Networks on the CIFAR10 dataset\n",
    "**2025 Spring CSCI1470 Deep Learning Final Project**\n",
    "\n",
    "**Authors: [Haosheng Wang](https://github.com/Wonder947), Edrick Guerrero, [Alfonso Gordon Cabello de los Cobos](https://github.com/AlfonsoR-GordonCC)**\n",
    "\n",
    "In this project we have created a Hopfiel Network that memorizes patterns on a grayscale version of the CIFAR10 dataset for it to be able to reconstruct the images from altered samples using TensorFlow.\n",
    "\n",
    "We followed one of the pytorch implementation https://github.com/ml-jku/hopfield-layers, proposed by the paper *Hopefield Network is All You Need*.\n",
    "\n",
    "The goals for this project are:\n",
    "1. BASE GOAL: high accuracy with small part of the dataset\n",
    "2. TARGET GOAL: analyze how accuracy is affected by the quality (i.e. correlation between\n",
    "images) and quantity (number of images to store) of the stored images/features.\n",
    "3. STRETCH GOAL: analyze how accuracy is affected by the quality (e.g. amount of noise,\n",
    "completeness of features) of the images/features used for retrieval."
   ]
  },
  {
   "cell_type": "markdown",
   "id": "67b28d81",
   "metadata": {},
   "source": [
    "# Division of Labor\n",
    "- Haosheng Wang:\n",
    "- Edrick Guerrero:\n",
    "- Alfonso Gordon Cabello de los Cobos:\n",
    "\n",
    "For BASE GOAL:\n",
    "1. ✅ Test existing pytorch implementation, including\n",
    "    - Testing the performance of existing implementation of modern hopfield network by the paper author as proof of concept\n",
    "    - This shall walk through the whole process(1. load several images to be stored 2. add simple mask/noise to those images 3. init modern hopfield network 4. store the images 5. get retreived images using masked images 6. visualize the original image, the masked image, and the retrieved image), and produce a demo for later steps to follow\n",
    "    - NOTE: this is trivially done, as we later found existing notebook already done the job https://github.com/ml-jku/hopfield-layers/blob/gh-pages/examples/simpsons/continuous_hopfield_pytorch.ipynb\n",
    "\n",
    "2. ✅ Load dataset and image processing, including\n",
    "    - Writing methods for loading dataset and taking part of the image dataset for memorizing\n",
    "    - Writing methods for converting Images to gray-scale\n",
    "    - Writing methods for converting between Image (for visualization e.g. PIL Image) and Numpy Array (or Tensorflow tensor) back and forth\n",
    "    - Writing methods for corrupting the image (e.g. adding mask; adding noise)\n",
    "3. Modern hopfield netork core implementation, including\n",
    "    - Implement the class of modern hopfield network, using the same or similar architecture proposed by the paper\n",
    "    - Including at least init, store, retrieve\n",
    "4. Evaluation, including\n",
    "    - Define how to measure the \"accuracy\" between original Image and retrieved Image\n",
    "    - Use the above mentioned methods to write evaluation functions for the whole process, given input images to be stored, choice of masking quality(or images for retrieval), output hopfield network performance\n",
    "    - Run the function to compare the performance of the pytorch one and our tensorflow one\n",
    "\n",
    "For TARGET GOAL:\n",
    "1. Analyze how accuracy is affected by the quality and quantity of images to be stored, including:\n",
    "    - Define how to measure the quality of images to be memorized/stored, e.g. define how to measure correlation between images\n",
    "    - Write function for the measurement, given input a batch of images to be measured, output the quality\n",
    "    - Visualize the relationship between the quality of the stored images and model accuracy (under same image quantity)\n",
    "    - Visualize the relationship between the quantity of the stored images and model accuracy (under the same image quality)\n",
    "\n",
    "For STRETCH GOAL:\n",
    "1. Analyze how accuracy is affected by the quality of the masked images for retrieval, including:\n",
    "    - Define how to measure the quality of masked images, e.g. percentage of pixels masked; norm of noises added\n",
    "    - Write function for the measurement, given input a pair of original and masked image, output quality of the masked image e.g. quality a number from 0-1 where quality 1 means the masked image is same as original image, 0 means \"completely different\"\n",
    "    - Visualize the relationship between the quality of the masked/cropped images for retrieval and final accuracy (under same store Image quality and quantity)\n"
   ]
  },
  {
   "cell_type": "markdown",
   "id": "60eb1701",
   "metadata": {},
   "source": [
    "# Image preprocessing"
   ]
  },
  {
   "cell_type": "markdown",
   "id": "c493f65e",
   "metadata": {},
   "source": [
    "As with any deep learning library, we have to preprocess the data we want to preprocess"
   ]
  },
  {
   "cell_type": "markdown",
   "id": "5aeff931",
   "metadata": {},
   "source": [
    "First we import the needed libraries for the project to work."
   ]
  },
  {
   "cell_type": "code",
   "execution_count": 13,
   "id": "16be3885",
   "metadata": {},
   "outputs": [],
   "source": [
    "import numpy as np\n",
    "import tensorflow as tf\n",
    "import matplotlib as mat\n",
    "import matplotlib.pyplot as plt"
   ]
  },
  {
   "cell_type": "markdown",
   "id": "14745d9b",
   "metadata": {},
   "source": [
    "Then we import the CIFAR10 dataset and isolate samples according to the goals of the project. Those samples must be in grayscale ffor the Network to memorize patterns correctly."
   ]
  },
  {
   "cell_type": "code",
   "execution_count": 14,
   "id": "1d0116ee",
   "metadata": {},
   "outputs": [
    {
     "name": "stdout",
     "output_type": "stream",
     "text": [
      "Taking a 1% of the CIFAR10 dataset. Total of 600 images used.\n",
      "\n",
      "Images selected.\n",
      " Checking if they are in grayscale...\n",
      "Cool, we can continue. Here you have one of the images\n"
     ]
    },
    {
     "data": {
      "image/png": "[encoded data removed]",
      "text/plain": [
       "<Figure size 640x480 with 1 Axes>"
      ]
     },
     "metadata": {},
     "output_type": "display_data"
    }
   ],
   "source": [
    "(x_train, y_train), (x_test, y_test) = tf.keras.datasets.cifar10.load_data()\n",
    "assert x_train.shape == (50000, 32, 32, 3)\n",
    "assert x_test.shape == (10000, 32, 32, 3)\n",
    "assert y_train.shape == (50000, 1)\n",
    "assert y_test.shape == (10000, 1)\n",
    "\n",
    "complete_imgs = np.concatenate((x_train, x_test), axis=0) # Create a Numpy Array with all the images\n",
    "\n",
    "percentage = input(\"What percentage of the CIFAR10 dataset (60000 images) do you want to use?\")\n",
    "if percentage == '': #If the user has not decided a percentage, 10% is default\n",
    "    percentage = 10\n",
    "else:\n",
    "    percentage = int(round(float(percentage)))\n",
    "\n",
    "number_images_used = int(round(60000 * (percentage/100))) # Number of images that will be used\n",
    "\n",
    "print(f'Taking a {percentage}% of the CIFAR10 dataset. Total of {number_images_used} images used.\\n')\n",
    "\n",
    "images_used = np.zeros(shape=(number_images_used, complete_imgs.shape[1], complete_imgs.shape[2], 1)) # Initialize a zero array with the same size of the complete\n",
    "\n",
    "used_indices = set()\n",
    "for i in range(number_images_used): # Lets use random images of the dataset\n",
    "    n = np.random.randint(0, complete_imgs.shape[0])\n",
    "    if n not in used_indices:\n",
    "        images_used[i] = tf.image.rgb_to_grayscale(complete_imgs[n]) # Changes the images to grayscale\n",
    "        used_indices.add(n)\n",
    "\n",
    "\n",
    "print(\"Images selected.\\n Checking if they are in grayscale...\")\n",
    "plt.imshow(images_used[0], cmap='gray')\n",
    "print(\"Cool, we can continue. Here you have one of the images\")"
   ]
  },
  {
   "cell_type": "markdown",
   "id": "c4793dc2",
   "metadata": {},
   "source": [
    "After getting the images and turned them into grayscale, is time to create the testing set by adding noise to the oringinal images."
   ]
  },
  {
   "cell_type": "code",
   "execution_count": 15,
   "id": "9b5ac340",
   "metadata": {},
   "outputs": [
    {
     "name": "stdout",
     "output_type": "stream",
     "text": [
      "Checking if noise is added correctly...\n",
      "Noisy image shape: (32, 32, 3), dtype: <dtype: 'float32'>\n"
     ]
    },
    {
     "data": {
      "image/png": "[encoded data removed]",
      "text/plain": [
       "<Figure size 1200x400 with 3 Axes>"
      ]
     },
     "metadata": {},
     "output_type": "display_data"
    },
    {
     "name": "stdout",
     "output_type": "stream",
     "text": [
      "Cool, we can continue. Here you have one of the images\n"
     ]
    }
   ],
   "source": [
    "noisy_imgs = np.zeros(shape=(number_images_used, complete_imgs.shape[1], complete_imgs.shape[2], 3))\n",
    "actual_index = 0\n",
    "for i in used_indices: \n",
    "    original_img = complete_imgs[i] # We get the original image for applying noise\n",
    "\n",
    "    \n",
    "    original_img_float = tf.cast(original_img, tf.float32) # Convert the image to float32 explicitly\n",
    "\n",
    "    # Generate stronger noise\n",
    "    stddev = 0.0001  # Higher value for more visible noise\n",
    "    noise = 0.1 * tf.random.normal(shape=original_img.shape, mean=0.0, stddev=stddev, dtype=tf.float32)\n",
    "\n",
    "    \n",
    "    noisy_img = original_img_float + noise # Add noise - using simple addition instead of tf.add to avoid type issues\n",
    "\n",
    "    \n",
    "    noisy_imgs[actual_index] =  tf.math.floormod(noisy_img, 1.0) # Apply module to keep in range [0,1] and save it on the array as grayscale\n",
    "    \n",
    "\n",
    "    if actual_index == 0:\n",
    "        print(\"Checking if noise is added correctly...\")\n",
    "\n",
    "        print(f\"Noisy image shape: {noisy_img.shape}, dtype: {noisy_img.dtype}\")\n",
    "\n",
    "        \n",
    "        plt.figure(figsize=(12, 4)) # Visualize with an explicit check to make sure images are compatible with imshow\n",
    "\n",
    "        plt.subplot(1, 3, 1)\n",
    "        plt.title(\"Original\")\n",
    "        plt.imshow(np.array(original_img)) # Convert to numpy if needed\n",
    "        plt.axis('off')\n",
    "\n",
    "        plt.subplot(1, 3, 2)\n",
    "        plt.title(\"Noise\")\n",
    "        \n",
    "        visual_noise = (noise - tf.reduce_min(noise)) / (tf.reduce_max(noise) - tf.reduce_min(noise)) # Normalize noise for visualization\n",
    "        plt.imshow(np.array(visual_noise))\n",
    "        plt.axis('off')\n",
    "\n",
    "        plt.subplot(1, 3, 3)\n",
    "        plt.title(\"Noisy Image\")\n",
    "        plt.imshow(np.array(noisy_imgs[actual_index]))\n",
    "        plt.axis('off')\n",
    "\n",
    "        plt.tight_layout()\n",
    "        plt.show()\n",
    "\n",
    "        print(\"Cool, we can continue. Here you have one of the images\")\n",
    "    \n",
    "    noisy_imgs[actual_index] =  tf.image.rgb_to_grayscale(noisy_imgs[actual_index]) # Turn the noisy image to grayscale\n",
    "\n",
    "    actual_index += 1\n"
   ]
  },
  {
   "cell_type": "markdown",
   "id": "46a90867",
   "metadata": {},
   "source": [
    "Another option is to apply a mask to the images. This way, only half of the imageis recognizable."
   ]
  },
  {
   "cell_type": "code",
   "execution_count": null,
   "id": "612c0419",
   "metadata": {},
   "outputs": [
    {
     "name": "stdout",
     "output_type": "stream",
     "text": [
      "Checking if making is done correctly...\n",
      "Cool, images are sliced, we can continue. Here you have one of the images\n"
     ]
    },
    {
     "data": {
      "image/png": "[encoded data removed]",
      "text/plain": [
       "<Figure size 640x480 with 1 Axes>"
      ]
     },
     "metadata": {},
     "output_type": "display_data"
    }
   ],
   "source": [
    "images_masked_np = np.copy(images_used)\n",
    "count = 0\n",
    "for img in images_masked_np:\n",
    "    img[16:, :] = (255//2)\n",
    "    images_masked_np[count] = img\n",
    "    count += 1\n",
    "\n",
    "print(\"Checking if making is done correctly...\")\n",
    "plt.imshow(images_masked_np[0], cmap='grey')\n",
    "print(\"Cool, images are sliced, we can continue. Here you have one of the images\")\n"
   ]
  },
  {
   "cell_type": "markdown",
   "id": "22091309",
   "metadata": {},
   "source": [
    "Now we define simple functions for changing the images to NumPy arrays and viceversa, an easy way to call the operations."
   ]
  },
  {
   "cell_type": "code",
   "execution_count": 28,
   "id": "74cb57ba",
   "metadata": {},
   "outputs": [
    {
     "name": "stdout",
     "output_type": "stream",
     "text": [
      "Checking if functions work as they should...\n",
      "Cool, the functions work, we can continue. Here you have one of the images\n"
     ]
    },
    {
     "data": {
      "image/png": "[encoded data removed]",
      "text/plain": [
       "<Figure size 640x480 with 1 Axes>"
      ]
     },
     "metadata": {},
     "output_type": "display_data"
    }
   ],
   "source": [
    "def img_to_arr(img, new_shape = (-1, 1)):\n",
    "    return tf.reshape(img, new_shape)\n",
    "\n",
    "def arr_to_img(arr):\n",
    "    if tf.is_tensor(arr):\n",
    "        return tf.reshape(arr, shape = [32, 32, 1])\n",
    "    else:\n",
    "        tens_arr = tf.convert_to_tensor(arr)\n",
    "        return tf.reshape(tens_arr, shape = [32, 32, 1])\n",
    "    \n",
    "print(\"Checking if functions work as they should...\")\n",
    "plt.imshow(arr_to_img(img_to_arr(images_masked_np[0])), cmap='grey') \n",
    "print(\"Cool, the functions work, we can continue. Here you have one of the images\")"
   ]
  },
  {
   "cell_type": "markdown",
   "id": "bf4dbee7",
   "metadata": {},
   "source": [
    "# Model Creation"
   ]
  },
  {
   "cell_type": "markdown",
   "id": "e776d8fc",
   "metadata": {},
   "source": [
    "This is where the fun starts! We are going to create the class for the Hopfield Network implementation"
   ]
  },
  {
   "cell_type": "code",
   "execution_count": null,
   "id": "aca62f98",
   "metadata": {},
   "outputs": [],
   "source": [
    "# from modern_hopfield_tf import Hopfield_tf  # optionally, import it\n",
    "\n",
    "class Hopfield_tf(tf.keras.layers.Layer):\n",
    "    \"\"\"\n",
    "    Modern Hopfield Network (single-head) with:\n",
    "      - static vs. non-static (learned) K/Q projections\n",
    "      - iterative updates on the associative state ξ\n",
    "      - optional final output projection\n",
    "    \n",
    "    ξ₀ = softmax(β · QKᵀ)\n",
    "    ξₜ₊₁ = softmax(β · (ξₜ K) Kᵀ)\n",
    "    output = ξ_final · V\n",
    "    \"\"\"\n",
    "    def __init__(self,\n",
    "                 static=True,\n",
    "                 hid_dim=None,\n",
    "                 scaling=1.0,\n",
    "                 update_steps_max=1,\n",
    "                 update_steps_eps=1e-4,\n",
    "                 output_dim=None,\n",
    "                 **kwargs):\n",
    "        super().__init__(**kwargs)\n",
    "        self.static = static\n",
    "        if not static:\n",
    "            assert hid_dim is not None, \"must specify hid_dim in non-static mode\"\n",
    "        self.hid_dim = hid_dim\n",
    "        self.scaling = scaling\n",
    "        self.update_steps_max = int(update_steps_max)\n",
    "        self.update_steps_eps = update_steps_eps\n",
    "        self.output_dim = output_dim\n",
    "\n",
    "    def build(self, input_shape):\n",
    "        ks_shape, qs_shape, vs_shape = input_shape\n",
    "        # allow K and Q to have different raw dims\n",
    "        self.pattern_dim_k = ks_shape[-1]\n",
    "        self.pattern_dim_q = qs_shape[-1]\n",
    "        assert vs_shape[-1] == self.pattern_dim_k, \"V must match K in last dim\"\n",
    "\n",
    "        if self.static:\n",
    "            assert self.pattern_dim_k==self.pattern_dim_q\n",
    "\n",
    "        if not self.static:\n",
    "            # only project once, in build:\n",
    "            self.k_proj = self.add_weight(\n",
    "                name=\"k_proj\",\n",
    "                shape=(self.pattern_dim_k, self.hid_dim),\n",
    "                initializer=\"glorot_uniform\",\n",
    "                trainable=True)\n",
    "            self.q_proj = self.add_weight(\n",
    "                name=\"q_proj\",\n",
    "                shape=(self.pattern_dim_q, self.hid_dim),\n",
    "                initializer=\"glorot_uniform\",\n",
    "                trainable=True)\n",
    "\n",
    "        if self.output_dim is not None:\n",
    "            # V always lives in raw pattern_dim_k space → project to output_dim\n",
    "            self.out_proj = self.add_weight(\n",
    "                name=\"out_proj\",\n",
    "                shape=(self.pattern_dim_k, self.output_dim),\n",
    "                initializer=\"glorot_uniform\",\n",
    "                trainable=True)\n",
    "\n",
    "\n",
    "    def call(self, inputs):\n",
    "        \"\"\"\n",
    "        inputs: tuple of (ks, qs, vs)\n",
    "          ks: (n_keys,  pattern_dim)\n",
    "          qs: (n_queries, pattern_dim)\n",
    "          vs: (n_keys,  pattern_dim)\n",
    "        Returns:\n",
    "          output: (n_queries, output_dim or pattern_dim)\n",
    "          attn_weights: (n_queries, n_keys)\n",
    "        \"\"\"\n",
    "        ks, qs, vs = inputs\n",
    "\n",
    "        # 1) if non-static: project into associative space\n",
    "        if self.static:\n",
    "            k = ks        # (n_keys,  pattern_dim)\n",
    "            q = qs        # (n_queries, pattern_dim)\n",
    "        else:\n",
    "            k = tf.matmul(ks, self.k_proj)  # → (n_keys,  hid_dim)\n",
    "            q = tf.matmul(qs, self.q_proj)  # → (n_queries, hid_dim)\n",
    "\n",
    "        v = vs  # values remain in original space\n",
    "\n",
    "        # 2) iterative Hopfield retrieval\n",
    "        q_current = q\n",
    "        xi = None\n",
    "\n",
    "        for _ in range(self.update_steps_max):\n",
    "            # compute scaled affinities\n",
    "            scores = tf.matmul(q_current, k, transpose_b=True)  # (n_queries, n_keys)\n",
    "            scores = scores * tf.cast(self.scaling, scores.dtype)   # apply scaling -- similar to temperature\n",
    "\n",
    "            # softmax → association matrix\n",
    "            xi_new = tf.nn.softmax(scores, axis=-1)            # (n_queries, n_keys)\n",
    "\n",
    "            # retrieve new queries: q_new = xi_new @ k\n",
    "            q_new = tf.matmul(xi_new, k)                       # (n_queries, hid_dim or pattern_dim)\n",
    "\n",
    "            # check convergence in q-space\n",
    "            diff = tf.norm(q_new - q_current, ord='euclidean')\n",
    "            q_current = q_new\n",
    "            xi = xi_new\n",
    "\n",
    "            if diff < self.update_steps_eps:\n",
    "                break\n",
    "\n",
    "        # 3) final retrieval of values\n",
    "        output = tf.matmul(xi, v)                             # (n_queries, pattern_dim)\n",
    "\n",
    "        # 4) optional output projection\n",
    "        if self.output_dim is not None:\n",
    "            output = tf.matmul(output, self.out_proj)         # (n_queries, output_dim)\n",
    "\n",
    "        return output"
   ]
  },
  {
   "cell_type": "markdown",
   "id": "5bc1a004",
   "metadata": {},
   "source": [
    "# Test Pytorch version Modern Hopfield Model\n"
   ]
  },
  {
   "cell_type": "code",
   "execution_count": null,
   "id": "2db60eda",
   "metadata": {},
   "outputs": [],
   "source": [
    "from hflayers import Hopfield\n",
    "\n",
    "hopfield_args = {\n",
    "        # do not project layer input\n",
    "        'normalize_hopfield_space':False,\n",
    "        'state_pattern_as_static':True,\n",
    "        'stored_pattern_as_static':True,\n",
    "        'pattern_projection_as_static':True,\n",
    "\n",
    "        # do not pre-process layer input\n",
    "        'normalize_stored_pattern':False,\n",
    "        'normalize_stored_pattern_affine':False,\n",
    "        'normalize_state_pattern':False,\n",
    "        'normalize_state_pattern_affine':False,\n",
    "        'normalize_pattern_projection':False,\n",
    "        'normalize_pattern_projection_affine':False,\n",
    "        \n",
    "        # do not post-process layer output\n",
    "        'disable_out_projection':True\n",
    "        }\n",
    "\n",
    "image_size = 32*32\n",
    "N = image_size\n",
    "hop_pt = Hopfield(input_size=N, scaling=1.0, **hopfield_args)\n",
    "\n",
    "# arg 1 is the train images to be mapped, arg 2 shall be the masked image used for retrieving, arg 3 is the mapping back train images (in our case shall be the same as arg1)\n",
    "# can think of arg 1,2,3 as key, query, value\n",
    "# reconstructed = net((train_pt, test_pt, train_pt))\n",
    "\n",
    "# TODO: reconstructed_images = hop_net((train_images, masked_test_images, train_images))\n",
    "\n",
    "# given the train_images of same quality, the masked_test_images of same quality\n",
    "# we get a bunch of reconstructed_images (of test_images from masked_test_images)\n",
    "# we calculate the accuracy from (reconstructed_images, test_images)\n",
    "# we need to visualize each pair of (test_img, masked_test_img, reconstructed_img)\n",
    "\n",
    "# summary of work to be done:\n",
    "# 2. define the hopfield_tensorflow class\n",
    "# 3. (target goal) someway to measure the quality of train_images\n",
    "# 4. (stretch goal) someway to measure the quality of masked_test_images\n",
    "# 5. (base goal) someway to measure the accuracy given test_images and reconstructed_images\n",
    "# 6. we also need build poster and write report\n",
    "\n"
   ]
  },
  {
   "cell_type": "markdown",
   "id": "f78f0f22",
   "metadata": {},
   "source": [
    "# Experiment"
   ]
  },
  {
   "cell_type": "markdown",
   "id": "b4c7c3c6",
   "metadata": {},
   "source": [
    "Now we have to know how many variables do we want to train with and how many are we leaving for testing. Althought the choice can be up to you, we will create a default scenario."
   ]
  },
  {
   "cell_type": "code",
   "execution_count": 27,
   "id": "c9390506",
   "metadata": {},
   "outputs": [
    {
     "name": "stdout",
     "output_type": "stream",
     "text": [
      "Checking that we assigned them correctly...\n",
      "Cool, they are different, we can continue.\n"
     ]
    },
    {
     "data": {
      "image/png": "[encoded data removed]",
      "text/plain": [
       "<Figure size 640x480 with 2 Axes>"
      ]
     },
     "metadata": {},
     "output_type": "display_data"
    }
   ],
   "source": [
    "train_set = np.copy(images_used)\n",
    "test_set = images_masked_np\n",
    "\n",
    "\n",
    "print(\"Checking that we assigned them correctly...\")\n",
    "plt.figure\n",
    "plt.subplot(1,2,1)\n",
    "plt.imshow(train_set[0], cmap='grey')\n",
    "plt.subplot(1,2,2)\n",
    "plt.imshow(test_set[0], cmap='grey')\n",
    "print(\"Cool, they are different, we can continue.\")"
   ]
  },
  {
   "cell_type": "code",
   "execution_count": null,
   "id": "f9004d4c",
   "metadata": {},
   "outputs": [],
   "source": [
    "# get static model\n",
    "hop_tf = Hopfield_tf(static=True)\n",
    "\n",
    "# convert to tensor annd desired shape\n",
    "def reshape_tensor(x):\n",
    "    res = tf.convert_to_tensor(x)\n",
    "    res = tf.reshape(res, shape=(res.shape[0], -1))\n",
    "    return res\n",
    "\n",
    "# k -- train -- (num_keys, hid_dim)\n",
    "# q -- test -- (num_qs, hid_dim)\n",
    "# v -- train -- same as k\n",
    "train_set = train_set[:100]\n",
    "test_set = train_set[:10]\n",
    "train_set_tf = reshape_tensor(train_set)\n",
    "test_set_tf = reshape_tensor(test_set)\n",
    "\n",
    "reconstructed = hop_tf((train_set_tf, test_set_tf, train_set_tf))\n",
    "\n",
    "reconstructed.shape\n"
   ]
  },
  {
   "cell_type": "markdown",
   "id": "20a5afaf",
   "metadata": {},
   "source": [
    "We will now run testing on our reconstructed images and compare them against our original test. We will first use MSE to calculate the noise level of original images and noisy images. Then, we will use a CLIP model to vectorize the reconstructed images and use COSINE similarity to compare these vectors and return a similarity score."
   ]
  },
  {
   "cell_type": "code",
   "execution_count": 1,
   "id": "1afeedb5",
   "metadata": {},
   "outputs": [
    {
     "name": "stdout",
     "output_type": "stream",
     "text": [
      "WARNING:tensorflow:From c:\\Users\\edric\\miniconda3\\envs\\csci1470\\Lib\\site-packages\\keras\\src\\losses.py:2976: The name tf.losses.sparse_softmax_cross_entropy is deprecated. Please use tf.compat.v1.losses.sparse_softmax_cross_entropy instead.\n",
      "\n"
     ]
    }
   ],
   "source": [
    "from sentence_transformers import SentenceTransformer, util\n",
    "\n",
    "def calculate_average_mse(original_images, altered_images):\n",
    "    \"\"\"\n",
    "    Calculate the average Mean Squared Error (MSE) between corresponding original and altered images.\n",
    "\n",
    "    Parameters:\n",
    "    original_images (list of numpy arrays): List of original 32x32 images\n",
    "    altered_images (list of numpy arrays): List of altered 32x32 images (same length as original_images)\n",
    "\n",
    "    Returns:\n",
    "    float: Average MSE across all image pairs\n",
    "    \"\"\"\n",
    "    if len(original_images) != len(altered_images):\n",
    "        raise ValueError(\"The number of original and altered images must be the same.\")\n",
    "\n",
    "    total_mse = 0.0\n",
    "    num_images = len(original_images)\n",
    "\n",
    "    for orig_img, alt_img in zip(original_images, altered_images):\n",
    "\n",
    "        # orig_img = np.array(orig_img)\n",
    "        # alt_img = np.array(alt_img)\n",
    "\n",
    "        if orig_img.shape != alt_img.shape:\n",
    "            raise ValueError(\"All image pairs must be the same size!\")\n",
    "\n",
    "        # Calculate MSE for this image pair\n",
    "        mse = np.mean((orig_img - alt_img) ** 2)\n",
    "        total_mse += mse\n",
    "\n",
    "    average_mse = total_mse / num_images\n",
    "    return average_mse\n",
    "\n",
    "\n",
    "def calculate_vector_similarity(original_images, altered_images):\n",
    "    \"\"\"\n",
    "    Calculate vectorized similarity between original and altered images using a pre-trained CLIP model. There\n",
    "    is an assumption that the lists are corresponding (original_images[i] corresponds to altered_images[i])\n",
    "\n",
    "    Parameters:\n",
    "    original_images (list of numpy arrays): List of original 32x32 images\n",
    "    altered_images (list of numpy arrays): List of altered 32x32 images (same length as original_images)\n",
    "\n",
    "    Returns:\n",
    "    list: accuracy for images pairs\n",
    "    \"\"\"\n",
    "\n",
    "    model = SentenceTransformer(\"clip-ViT-B-32\")\n",
    "\n",
    "    scores = []\n",
    "\n",
    "    for orig_img, alt_img in zip(original_images, altered_images):\n",
    "        joined_image_list = [orig_img, alt_img]\n",
    "        encoded_image = model.encode(\n",
    "            joined_image_list,\n",
    "            batch_size=2,\n",
    "            convert_to_tensor=True,\n",
    "            show_progress_bar=False,\n",
    "        )\n",
    "\n",
    "        processed_images = util.paraphrase_mining_embeddings(encoded_image)\n",
    "\n",
    "        for score, image_id1, image_id2 in processed_images:\n",
    "            scores.append(score)\n",
    "    return scores"
   ]
  },
  {
   "cell_type": "markdown",
   "id": "dd83c683",
   "metadata": {},
   "source": [
    "# Reference / Public Implementation Links\n",
    "1. (the original paper github repo) https://github.com/ml-jku/hopfield-layers\n",
    "2. (the blog) https://ml-jku.github.io/hopfield-layers/\n",
    "3. (the original paper) https://arxiv.org/abs/2008.02217\n",
    "4. (base_1 reference notebook) https://github.com/ml-jku/hopfield-layers/blob/gh-pages/examples/simpsons/continuous_hopfield_pytorch.ipynb\n"
   ]
  }
 ],
 "metadata": {
  "kernelspec": {
   "display_name": "cs1470_final_proj",
   "language": "python",
   "name": "python3"
  },
  "language_info": {
   "codemirror_mode": {
    "name": "ipython",
    "version": 3
   },
   "file_extension": ".py",
   "mimetype": "text/x-python",
   "name": "python",
   "nbconvert_exporter": "python",
   "pygments_lexer": "ipython3",
   "version": "3.10.16"
  }
 },
 "nbformat": 4,
 "nbformat_minor": 5
}
