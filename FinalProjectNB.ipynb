{
 "cells": [
  {
   "cell_type": "markdown",
   "id": "340ca66f",
   "metadata": {},
   "source": [
    "# Modern Hopfield Networks on the CIFAR10 dataset\n",
    "**2025 Spring CSCI1470 Deep Learning Final Project**\n",
    "\n",
    "**Authors: [Haosheng Wang](https://github.com/Wonder947), Edrick Guerrero, [Alfonso Gordon Cabello de los Cobos](https://github.com/AlfonsoR-GordonCC)**\n",
    "\n",
    "In this project we have created a Hopfiel Network that memorizes patterns on a grayscale version of the CIFAR10 dataset for it to be able to reconstruct the images from altered samples using TensorFlow.\n",
    "\n",
    "The goals for this project are:\n",
    "1. BASE GOAL: high accuracy with small part of the dataset\n",
    "2. TARGET GOAL: analyze how accuracy is affected by the quality (i.e. correlation between\n",
    "images) and quantity (number of images to store) of the stored images/features.\n",
    "3. STRETCH GOAL: analyze how accuracy is affected by the quality (e.g. amount of noise,\n",
    "completeness of features) of the images/features used for retrieval."
   ]
  },
  {
   "cell_type": "markdown",
   "id": "5aeff931",
   "metadata": {},
   "source": [
    "First we import the needed libraries for the project to work."
   ]
  },
  {
   "cell_type": "code",
   "execution_count": 17,
   "id": "16be3885",
   "metadata": {},
   "outputs": [],
   "source": [
    "import numpy as np\n",
    "import tensorflow as tf\n",
    "import matplotlib as mat\n",
    "import matplotlib.pyplot as plt\n"
   ]
  },
  {
   "cell_type": "markdown",
   "id": "14745d9b",
   "metadata": {},
   "source": [
    "Then we import the CIFAR10 dataset, wich is already on a grayscale format according to [TF documentation](https://www.tensorflow.org/api_docs/python/tf/keras/datasets/cifar10/load_data), and isolate samples according to the goals of the project. "
   ]
  },
  {
   "cell_type": "code",
   "execution_count": 22,
   "id": "1d0116ee",
   "metadata": {},
   "outputs": [
    {
     "name": "stdout",
     "output_type": "stream",
     "text": [
      "Taking a 1% of the CIFAR10 dataset. Total of 600 images used.\n",
      "\n",
      "Images selected.\n",
      " Checking if they are in grayscale...\n",
      "Cool, we can continue. Here you have one of the images\n"
     ]
    },
    {
     "data": {
      "image/png": "[encoded data removed]",
      "text/plain": [
       "<Figure size 640x480 with 1 Axes>"
      ]
     },
     "metadata": {},
     "output_type": "display_data"
    }
   ],
   "source": [
    "(x_train, y_train), (x_test, y_test) = tf.keras.datasets.cifar10.load_data()\n",
    "assert x_train.shape == (50000, 32, 32, 3)\n",
    "assert x_test.shape == (10000, 32, 32, 3)\n",
    "assert y_train.shape == (50000, 1)\n",
    "assert y_test.shape == (10000, 1)\n",
    "\n",
    "complete_imgs = np.concatenate((x_train, x_test), axis=0) #Create a Numpy Array with all the images\n",
    "\n",
    "percentage = input(\"What percentage of the CIFAR10 dataset (60000 images) do you want to use?\")\n",
    "if percentage == '': #If the user has not decided a percentage, 10% is default\n",
    "    percentage = 10\n",
    "else:\n",
    "    percentage = int(round(float(percentage)))\n",
    "\n",
    "number_images_used = int(round(60000 * (percentage/100))) # Number of images that will be used\n",
    "\n",
    "print(f'Taking a {percentage}% of the CIFAR10 dataset. Total of {number_images_used} images used.\\n')\n",
    "\n",
    "images_used = np.zeros(shape=(number_images_used, complete_imgs.shape[1], complete_imgs.shape[2], 1)) #Initialize a zero array with the same size of the complete\n",
    "\n",
    "used_indices = set()\n",
    "for i in range(number_images_used): #Lets use random images of the dataset\n",
    "    n = np.random.randint(0, complete_imgs.shape[0])\n",
    "    if n not in used_indices:\n",
    "        images_used[i] = tf.image.rgb_to_grayscale(complete_imgs[n])\n",
    "        used_indices.add(n)\n",
    "\n",
    "\n",
    "print(\"Images selected.\\n Checking if they are in grayscale...\")\n",
    "plt.imshow(images_used[0], cmap='gray')\n",
    "print(\"Cool, we can continue. Here you have one of the images\")"
   ]
  }
 ],
 "metadata": {
  "kernelspec": {
   "display_name": "Python 3",
   "language": "python",
   "name": "python3"
  },
  "language_info": {
   "codemirror_mode": {
    "name": "ipython",
    "version": 3
   },
   "file_extension": ".py",
   "mimetype": "text/x-python",
   "name": "python",
   "nbconvert_exporter": "python",
   "pygments_lexer": "ipython3",
   "version": "3.11.9"
  }
 },
 "nbformat": 4,
 "nbformat_minor": 5
}
