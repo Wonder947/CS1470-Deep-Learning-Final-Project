{
 "cells": [
  {
   "cell_type": "markdown",
   "metadata": {},
   "source": [
    "# Hopfield Network\n",
    "\n",
    "This is a demonstration of classical hopfield network.\n",
    "\n",
    "Following the blog: https://ml-jku.github.io/hopfield-layers/\n"
   ]
  },
  {
   "cell_type": "code",
   "execution_count": 1,
   "metadata": {},
   "outputs": [
    {
     "ename": "ModuleNotFoundError",
     "evalue": "No module named 'imageio'",
     "output_type": "error",
     "traceback": [
      "\u001b[1;31m---------------------------------------------------------------------------\u001b[0m",
      "\u001b[1;31mModuleNotFoundError\u001b[0m                       Traceback (most recent call last)",
      "Cell \u001b[1;32mIn[1], line 10\u001b[0m\n\u001b[0;32m      8\u001b[0m \u001b[38;5;66;03m# image processing\u001b[39;00m\n\u001b[0;32m      9\u001b[0m \u001b[38;5;28;01mfrom\u001b[39;00m\u001b[38;5;250m \u001b[39m\u001b[38;5;21;01mPIL\u001b[39;00m\u001b[38;5;250m \u001b[39m\u001b[38;5;28;01mimport\u001b[39;00m Image\n\u001b[1;32m---> 10\u001b[0m \u001b[38;5;28;01mimport\u001b[39;00m\u001b[38;5;250m \u001b[39m\u001b[38;5;21;01mimageio\u001b[39;00m\u001b[38;5;250m \u001b[39m\u001b[38;5;28;01mas\u001b[39;00m\u001b[38;5;250m \u001b[39m\u001b[38;5;21;01miio\u001b[39;00m\n",
      "\u001b[1;31mModuleNotFoundError\u001b[0m: No module named 'imageio'"
     ]
    }
   ],
   "source": [
    "# get images\n",
    "import os\n",
    "\n",
    "# basic data processing\n",
    "import numpy as np\n",
    "from numpy.typing import NDArray\n",
    "\n",
    "# image processing\n",
    "from PIL import Image\n",
    "import imageio as iio\n"
   ]
  },
  {
   "cell_type": "markdown",
   "metadata": {},
   "source": [
    "## Classical Hopfield Network\n",
    "\n",
    "Associative memories are one of the earliest artificial neural models dating back to the 1960s and 1970s. Best known are Hopfield Networks, presented by John Hopfield in 1982. As the name suggests, the main purpose of associative memory networks is to associate an input with its most similar pattern. In other words, the purpose is to store and retrieve patterns.\n",
    "\n",
    "The simplest associative memory is just a sum of outer products of the N patterns $\\{{x_i}\\}^N_{i=1}$ that we want to store (Hebbian learning rule). In classical Hopfield Networks these patterns are polar (binary), i.e. $x_i∈\\{−1,1\\}^d$, where d is the length of the patterns. The corresponding weight matrix W is:\n",
    "\n",
    "$$W=\\sum_{i}^{N}{x_ix_i^T} \\tag{1}$$\n",
    "\n",
    "The weight matrix W stores the patterns, which can be retrieved starting with a state pattern $\\xi$.\n",
    "\n",
    "From now on we denote the N stored patterns as $\\{{x_i}\\}_{i=1}^N$ and any state pattern or state as $ξ$.\n",
    "\n",
    "The basic synchronuous update rule is to repeatedly multiply the state pattern $ξ$ with the weight matrix W, subtract the bias and take the sign:\n",
    "\n",
    "$$\\xi^{t+1} = sign(W\\xi^T - b) \\tag{2}$$\n",
    "\n",
    "where $b∈R^d$ is a bias vector, which can be interpreted as threshold for every component. The asynchronous update rule performs this update only for one component of $ξ$\n",
    " and then selects the next component for update. Convergence is reached if $ξ^{t+1}=ξ^t$.\n",
    "\n",
    "The asynchronous version of the update rule of Eq. (2) minimizes the energy function E:\n",
    "\n",
    "$$E = -\\frac{1}{2} \\xi^T W \\xi + \\xi^T b = -\\frac{1}{2} \\sum_{i=1}^d \\sum_{j=1}^d {w_{ij} \\xi_i \\xi_j} + \\sum_{i=1}^d{b_i \\xi_i} \\tag{3}$$\n",
    "\n",
    "As derived in the papers of Bruck, Goles-Chacc et al. and the original Hopfield paper, the convergence properties are dependent on the structure of the weight matrix W\n",
    " and the method by which the nodes are updated:\n",
    "\n",
    "- For asynchronous updates with wii≥0 and wij=wji, the updates converge to a stable state.\n",
    "- For synchronous updates with wij=wji, the updates converge to a stable state or a limit cycle of length 2.\n"
   ]
  },
  {
   "cell_type": "code",
   "execution_count": 2,
   "metadata": {},
   "outputs": [],
   "source": [
    "class ClassicalHopfieldNetwork:\n",
    "    def __init__(self, hid_dim:int):\n",
    "        self.hid_dim = hid_dim\n",
    "\n",
    "        self.W = np.zeros((hid_dim, hid_dim))\n",
    "        self.b = np.zeros((hid_dim, 1))\n",
    "\n",
    "    def store(self, store_patterns: NDArray):\n",
    "        '''\n",
    "        Stores the patterns to be memorized, save in self.W, which will be the sum of the outer products of the n patterns to be stored\n",
    "\n",
    "        Args:\n",
    "            store_patterns: a (n, hid_dim, 1) numpy array, where n is number of store patterns, each pattern is (hid_dim, 1)\n",
    "        \n",
    "        Return:\n",
    "            None\n",
    "        '''\n",
    "        assert len(store_patterns.shape) == 3   # shape: (batch_size, hid_dim, 1)\n",
    "        assert store_patterns.shape[1] == self.hid_dim\n",
    "\n",
    "        for x in store_patterns:\n",
    "            self.W += x@x.T\n",
    "\n",
    "\n",
    "\n",
    "    def retrieve(self, state_pattern: NDArray):\n",
    "        '''\n",
    "        Retrieve the given state_pattern, by update current state until converge.\n",
    "\n",
    "        Args:\n",
    "            state_pattern: a (hid_dim, 1) numpy array\n",
    "\n",
    "        Return:\n",
    "            retrieved_pattern: retrieved_pattern\n",
    "        '''\n",
    "        # assert len(state_pattern.shape) == 1\n",
    "        # assert state_pattern.shape[0] == self.hid_dim\n",
    "\n",
    "        retrieved_pattern = self.update(state_pattern)\n",
    "\n",
    "        return retrieved_pattern\n",
    "\n",
    "\n",
    "    def update(self, state):\n",
    "        '''\n",
    "        Update by repeatedly do basic synchronuous update step: new_state = sign(W@old_state-b), until convergence.\n",
    "        Convergence is reached if new energy is (almost) the same as old energy. \n",
    "\n",
    "        Args:\n",
    "            state: a (hid_dim, 1) numpy array\n",
    "        \n",
    "        Return:\n",
    "            cur_state: a (hid_dim, 1) numpy array\n",
    "        '''\n",
    "        prev_state = state\n",
    "        cur_state = self.update_step(prev_state)\n",
    "        while abs(self.get_energy(prev_state)-self.get_energy(cur_state))>1e-8:\n",
    "            prev_state = cur_state\n",
    "            cur_state = self.update_step(cur_state)  \n",
    "        \n",
    "        return cur_state\n",
    "\n",
    "\n",
    "    def update_step(self, state):\n",
    "        '''\n",
    "        Perform one update step: new_state = sign(W@old_state-b)\n",
    "        '''\n",
    "        new_state = np.sign(self.W@state-self.b)\n",
    "\n",
    "        return new_state\n",
    "\n",
    "\n",
    "    def get_energy(self, state):\n",
    "        '''\n",
    "        Get energy of state: E = -1/2 * ξ.T W ξ + ξ.T b\n",
    "\n",
    "        Return:\n",
    "            a scalar\n",
    "        '''\n",
    "        energy = -1/2 * state.T @ self.W @ state + state.T@self.b\n",
    "\n",
    "        return energy\n",
    "\n"
   ]
  },
  {
   "cell_type": "markdown",
   "metadata": {},
   "source": [
    "## Example\n",
    "\n",
    "We start with an illustrative example of a Hopfield Network. One input image should first be stored and then be retrieved. The input image is an image.\n",
    "\n",
    "We preprocess the image by\n",
    "- resize to shape of 64x64\n",
    "- convert to black and white (mode=\"1\")\n",
    "- convert to numpy array\n",
    "- map from 0,1 to -1,1\n",
    "- flatten into 1d array as features\n",
    "\n",
    "To convert the retrieved numpy array of classical hopfield network back to image, we do\n",
    "- reshape from 1d array to img_size\n",
    "- map from -1,1 to 0,1\n",
    "- convert to Image type"
   ]
  },
  {
   "cell_type": "code",
   "execution_count": 3,
   "metadata": {},
   "outputs": [
    {
     "name": "stdout",
     "output_type": "stream",
     "text": [
      "(406, 407) RGBA PNG\n",
      "(4096, 1)\n"
     ]
    },
    {
     "data": {
      "image/jpeg": "[encoded data removed]",
      "image/png": "[encoded data removed]",
      "text/plain": [
       "<PIL.Image.Image image mode=L size=64x64>"
      ]
     },
     "execution_count": 3,
     "metadata": {},
     "output_type": "execute_result"
    }
   ],
   "source": [
    "def preprocess_img(img, img_size=(64,64)):\n",
    "    '''\n",
    "    We preprocess the image by\n",
    "        - resize to shape of img_size: default 64x64\n",
    "        - convert to black and white (mode=\"1\")\n",
    "        - convert to numpy array\n",
    "        - map from 0,1 to -1,1\n",
    "        - flatten into 1d array as features\n",
    "    '''\n",
    "    res = img.resize(img_size)\n",
    "    res = res.convert(mode='1')\n",
    "    res = np.array(res)\n",
    "    res = np.where(res==0, -1, 1)\n",
    "    res = res.reshape((-1, 1))\n",
    "\n",
    "    return res\n",
    "\n",
    "def state2img(state: NDArray, img_size):\n",
    "    '''\n",
    "    To convert the retrieved state of classical hopfield network back to image, we do\n",
    "        - reshape from 1d array to img_size\n",
    "        - map from -1,1 to 0,1\n",
    "        - convert to Image type\n",
    "    '''\n",
    "    # check the post here: https://stackoverflow.com/questions/47290668/image-fromarray-just-produces-black-image\n",
    "    res = state.reshape(img_size)\n",
    "    res = np.where(res==-1, 0, 1)\n",
    "    res = (res*255).astype(np.uint8)\n",
    "    res = Image.fromarray(res, mode='L')\n",
    "    return res\n",
    "\n",
    "\n",
    "# let's read in an image\n",
    "IMG_FOLDER = \"./images/\"\n",
    "img1 = Image.open(\"./images/homer_bw.png\")\n",
    "# and see it's shape, mode, format\n",
    "print(img1.size, img1.mode, img1.format)\n",
    "# and take a look at it\n",
    "# img1.show()\n",
    "\n",
    "# now, preprocess it\n",
    "img_size = 64, 64\n",
    "# img_size = 4, 4\n",
    "train_img1 = preprocess_img(img1, img_size)\n",
    "print(train_img1.shape)\n",
    "\n",
    "# convert back and check it's the same\n",
    "state2img(train_img1, img_size)\n"
   ]
  },
  {
   "cell_type": "markdown",
   "metadata": {},
   "source": [
    "Now let's try to store the image and retrieve it with half of the image masked."
   ]
  },
  {
   "cell_type": "code",
   "execution_count": 4,
   "metadata": {},
   "outputs": [
    {
     "data": {
      "image/jpeg": "[encoded data removed]",
      "image/png": "[encoded data removed]",
      "text/plain": [
       "<PIL.Image.Image image mode=L size=64x64>"
      ]
     },
     "execution_count": 4,
     "metadata": {},
     "output_type": "execute_result"
    }
   ],
   "source": [
    "size = 64,64\n",
    "\n",
    "# preprocess the image\n",
    "processed_img1 = preprocess_img(img1, size) # (64*64, 1)\n",
    "\n",
    "# batch it\n",
    "store_patterns = np.expand_dims(processed_img1, axis=0)\n",
    "\n",
    "# get a masked image to test\n",
    "masked_img1 = processed_img1.copy()\n",
    "masked_img1[64*64//2:] = 0\n",
    "# print(masked_img1.shape)\n",
    "# state2img(masked_img1, (64,64)).show()\n",
    "\n",
    "# get our model\n",
    "hopfield = ClassicalHopfieldNetwork(64*64)\n",
    "\n",
    "# store the image\n",
    "hopfield.store(store_patterns)\n",
    "# print(hopfield.W)\n",
    "\n",
    "# retrieve the masked img\n",
    "retrieved_img1 = hopfield.retrieve(masked_img1)\n",
    "# print(retrieved_img1)\n",
    "\n",
    "# convert the retrieved numpy array back to Image\n",
    "res_img = state2img(retrieved_img1, (64,64))\n",
    "res_img\n"
   ]
  },
  {
   "cell_type": "markdown",
   "metadata": {},
   "source": [
    "Now let's see if we store multiple patterns, how would that affect our retrieve."
   ]
  },
  {
   "cell_type": "code",
   "execution_count": null,
   "metadata": {},
   "outputs": [],
   "source": [
    "def color2bw(img, thr=150):\n",
    "    '''\n",
    "    Convert color image to black white image with PIL Image\n",
    "\n",
    "    Args:\n",
    "        img: a PIL Image\n",
    "        thr: a threshold for cutting between black and white pixel, default 150\n",
    "    \n",
    "    Return:\n",
    "        res: a PIL image of mode \"L\"\n",
    "    '''\n",
    "    res = img.convert('L').point(lambda x: 255 if x>thr else 0)\n",
    "    return res\n",
    "\n",
    "def get_bw_imgs(img_dir, pt_thr=150):\n",
    "    '''\n",
    "    Given img_dir, return all image files converted to L mode PIL black white images in that dir\n",
    "\n",
    "    Args:\n",
    "        img_dir: a dir path containing images for training\n",
    "        pt_thr: threshold for color2bw()\n",
    "    Return:\n",
    "        train_imgs: \"L\" mode black white PIL images\n",
    "    '''\n",
    "    train_imgs = os.listdir(img_dir)\n",
    "    train_imgs = [img_dir+f for f in train_imgs if os.path.isfile(img_dir+f)]\n",
    "    train_imgs = [Image.open(img) for img in train_imgs]\n",
    "    train_imgs = [color2bw(img, pt_thr) for img in train_imgs]\n",
    "    return train_imgs\n"
   ]
  },
  {
   "cell_type": "code",
   "execution_count": null,
   "metadata": {},
   "outputs": [],
   "source": [
    "# get model\n",
    "hopfield2 = ClassicalHopfieldNetwork(64*64)\n",
    "\n",
    "# get multiple store images\n",
    "TRAIN_IMG_PATH = IMG_FOLDER+'train/'\n",
    "train_imgs = get_bw_imgs(TRAIN_IMG_PATH)\n",
    "train_imgs[1].show()    # take a look at one of it\n",
    "\n",
    "# TBD: mask some train img and try retrieve\n",
    "# can do this by writing a new function doing the masking job\n"
   ]
  },
  {
   "cell_type": "markdown",
   "metadata": {},
   "source": [
    "# The End"
   ]
  }
 ],
 "metadata": {
  "kernelspec": {
   "display_name": "Python 3",
   "language": "python",
   "name": "python3"
  },
  "language_info": {
   "codemirror_mode": {
    "name": "ipython",
    "version": 3
   },
   "file_extension": ".py",
   "mimetype": "text/x-python",
   "name": "python",
   "nbconvert_exporter": "python",
   "pygments_lexer": "ipython3",
   "version": "3.11.9"
  }
 },
 "nbformat": 4,
 "nbformat_minor": 2
}
